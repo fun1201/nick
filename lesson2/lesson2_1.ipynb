{
 "cells": [
  {
   "cell_type": "code",
   "execution_count": 6,
   "id": "8625ec69",
   "metadata": {},
   "outputs": [
    {
     "name": "stdout",
     "output_type": "stream",
     "text": [
      "hello! python!\n",
      "哈囉!  大家好!\n"
     ]
    }
   ],
   "source": [
    "print(\"hello! python!\")\n",
    "\n",
    "print(\"哈囉!  大家好!\")"
   ]
  },
  {
   "cell_type": "code",
   "execution_count": 5,
   "id": "b37aaa24",
   "metadata": {},
   "outputs": [
    {
     "name": "stdout",
     "output_type": "stream",
     "text": [
      "10\n",
      "25\n",
      "89\n",
      "10.0\n"
     ]
    }
   ],
   "source": [
    "print(5 + 5)\n",
    "\n",
    "print(5 * 5)\n",
    "\n",
    "print(99 - 10)\n",
    "\n",
    "print(100 / 10)"
   ]
  }
 ],
 "metadata": {
  "kernelspec": {
   "display_name": "base",
   "language": "python",
   "name": "python3"
  },
  "language_info": {
   "codemirror_mode": {
    "name": "ipython",
    "version": 3
   },
   "file_extension": ".py",
   "mimetype": "text/x-python",
   "name": "python",
   "nbconvert_exporter": "python",
   "pygments_lexer": "ipython3",
   "version": "3.13.2"
  }
 },
 "nbformat": 4,
 "nbformat_minor": 5
}
