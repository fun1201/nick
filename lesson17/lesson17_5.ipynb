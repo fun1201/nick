{
 "cells": [
  {
   "cell_type": "code",
   "execution_count": null,
   "id": "db82e12f",
   "metadata": {},
   "outputs": [],
   "source": [
    "#AI建立一個function\n",
    "#資料來源:scores = np.random.randint(50,101,size=(50, 5))\n",
    "#欄位: ['國文', '英文', '數學', '自然', '社會','總分','平均','排名']\n",
    "#索引: ['學生' + str(i) for i in range(1, 51)]\n",
    "#建立DataFrame\n",
    "import numpy as np\n",
    "import pandas as pd \n",
    "\n",
    "def build_scores_dataframe(scores):\n",
    "    df = pd.DataFrame(scores,\n",
    "                      columns=['國文', '英文', '數學', '自然', '社會'],\n",
    "                      index=['學生' + str(i) for i in range(1, 51)])\n",
    "    df.index.name = '學生'\n",
    "    df.columns.name = '科目'\n",
    "    sum_values = df.sum(axis=1)\n",
    "    mean_values = df.mean(axis=1)\n",
    "    df['總分'] = sum_values\n",
    "    df['平均'] = mean_values\n",
    "    rank_values = sum_values.rank(method='min', ascending=False)\n",
    "    df['排名'] = rank_values\n",
    "    return df\n",
    "\n",
    "scores = np.random.randint(50,101,size=(50, 5))\n",
    "df = build_scores_dataframe(scores)\n",
    "df"
   ]
  },
  {
   "cell_type": "code",
   "execution_count": null,
   "id": "71758b68",
   "metadata": {},
   "outputs": [],
   "source": [
    "#選擇欄位\n",
    "df1 = df[['國文', '英文', '數學', '自然', '社會']]\n",
    "df1"
   ]
  },
  {
   "cell_type": "code",
   "execution_count": null,
   "id": "0964bce0",
   "metadata": {},
   "outputs": [],
   "source": [
    "\n",
    "s = df1.loc['學生1']\n",
    "less_than_60_series = s[s<60]\n",
    "#取出不及格的科目\n",
    "failing_subjects = less_than_60_series.index.tolist()\n",
    "failing_subjects\n",
    "#取出不及格科目的分數\n",
    "failing_scores = less_than_60_series.tolist()\n",
    "failing_scores\n",
    "#建立一個Series,值要轉換為字串,如果有多個值則用逗號分隔\n",
    "failing_scores_str = ','.join(map(str, failing_scores))\n",
    "failing_subjects_str = ','.join(failing_subjects)\n",
    "pd.Series([failing_scores_str, failing_subjects_str], index=['分數', '不及格科目'])"
   ]
  },
  {
   "cell_type": "code",
   "execution_count": null,
   "id": "835db291",
   "metadata": {},
   "outputs": [],
   "source": [
    "def apply_statistics(s):\n",
    "    less_than_60_series = s[s<60]\n",
    "    #不及格科目數量\n",
    "    failing_subjects_count = less_than_60_series.count()\n",
    "    #取出不及格的科目\n",
    "    failing_subjects = less_than_60_series.index.tolist()\n",
    "    \n",
    "    #取出不及格科目的分數\n",
    "    failing_scores = less_than_60_series.tolist()\n",
    "    \n",
    "    #建立一個Series,值要轉換為字串,如果有多個值則用逗號分隔\n",
    "    failing_scores_str = ','.join(map(str, failing_scores))\n",
    "    failing_subjects_str = ','.join(failing_subjects)\n",
    "    return pd.Series([failing_subjects_count,failing_subjects_str,failing_scores_str], index=['不及格科目數量', '不及格科目', '分數'])\n",
    "\n",
    "\n",
    "df2 = df1.apply(apply_statistics, axis=1)\n",
    "df2"
   ]
  },
  {
   "cell_type": "code",
   "execution_count": null,
   "id": "04df463f",
   "metadata": {},
   "outputs": [],
   "source": [
    "#df要和df2合併\n",
    "df_merged = pd.concat([df, df2], axis=1)\n",
    "df_merged"
   ]
  },
  {
   "cell_type": "code",
   "execution_count": null,
   "id": "0f57354b",
   "metadata": {},
   "outputs": [],
   "source": []
  }
 ],
 "metadata": {
  "kernelspec": {
   "display_name": "fun",
   "language": "python",
   "name": "python3"
  },
  "language_info": {
   "name": "python",
   "version": "3.12.11"
  }
 },
 "nbformat": 4,
 "nbformat_minor": 5
}
