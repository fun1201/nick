{
 "cells": [
  {
   "cell_type": "code",
   "execution_count": 14,
   "id": "31fd3ba2",
   "metadata": {},
   "outputs": [
    {
     "data": {
      "text/plain": [
       "97.0"
      ]
     },
     "execution_count": 14,
     "metadata": {},
     "output_type": "execute_result"
    }
   ],
   "source": [
    "value1 = float(input(\"請輸入第一個值;\"))\n",
    "value1"
   ]
  },
  {
   "cell_type": "code",
   "execution_count": 16,
   "id": "849d5e16",
   "metadata": {},
   "outputs": [
    {
     "data": {
      "text/plain": [
       "'59'"
      ]
     },
     "execution_count": 16,
     "metadata": {},
     "output_type": "execute_result"
    }
   ],
   "source": [
    "input(\"請輸入一個數值\")"
   ]
  },
  {
   "cell_type": "markdown",
   "id": "3d889345",
   "metadata": {},
   "source": [
    "float 就是小數點     .0"
   ]
  },
  {
   "cell_type": "code",
   "execution_count": 26,
   "id": "6893a366",
   "metadata": {},
   "outputs": [
    {
     "name": "stdout",
     "output_type": "stream",
     "text": [
      "3數的加總是: 105.0\n"
     ]
    }
   ],
   "source": [
    "value1 = float(input(\"請輸入一個數值\"))\n",
    "value2 = float(input(\"請輸入二個數值\"))\n",
    "value3 = float(input(\"請輸入三個數值\"))\n",
    "\n",
    "total = value1 + value2 + value3\n",
    "print(\"3數的加總是:\", total)"
   ]
  },
  {
   "cell_type": "code",
   "execution_count": 32,
   "id": "e73c91df",
   "metadata": {},
   "outputs": [
    {
     "name": "stdout",
     "output_type": "stream",
     "text": [
      "3 5.0 您好 True 78.9\n"
     ]
    }
   ],
   "source": [
    "print(3, \"5.0\", \"您好\", True, 78.9)"
   ]
  },
  {
   "cell_type": "code",
   "execution_count": null,
   "id": "8ea21ee2",
   "metadata": {},
   "outputs": [
    {
     "name": "stdout",
     "output_type": "stream",
     "text": [
      "n= 100.45\n"
     ]
    }
   ],
   "source": [
    "n = 25\n",
    "n += 25\n",
    "n *= 2\n",
    "print(\"n=\",n)"
   ]
  },
  {
   "cell_type": "code",
   "execution_count": 34,
   "id": "ee8639f3",
   "metadata": {},
   "outputs": [
    {
     "name": "stdout",
     "output_type": "stream",
     "text": [
      "n= 100\n"
     ]
    }
   ],
   "source": [
    "#複合指定運算子\n",
    "# +=\n",
    "# -=\n",
    "# *=\n",
    "\n",
    "n = 25\n",
    "n += 25\n",
    "n *= 2\n",
    "print(\"n=\", n)"
   ]
  },
  {
   "cell_type": "code",
   "execution_count": null,
   "id": "e8b117ff",
   "metadata": {},
   "outputs": [
    {
     "name": "stdout",
     "output_type": "stream",
     "text": [
      "3數的加總是: 155.0\n"
     ]
    }
   ],
   "source": [
    "totaal = 0\n",
    "value = aflot(input(\"請輸入一個數值\"))\n",
    "total += value\n",
    "\n",
    "value = float(input(\"請輸入二個數值\"))\n",
    "total +=value\n",
    "\n",
    "value = float(input(\"請輸入三個數值\"))\n",
    "\n",
    "total = value1 + value2 + value3\n",
    "total += value\n",
    "print(\"3數的加總是:\", total)"
   ]
  },
  {
   "cell_type": "code",
   "execution_count": 47,
   "id": "d45a7523",
   "metadata": {},
   "outputs": [
    {
     "name": "stdout",
     "output_type": "stream",
     "text": [
      "a= 50.0\n",
      "b= 50.0\n",
      "斜邊為 70.71067811865476\n"
     ]
    }
   ],
   "source": [
    "#直角三角形\n",
    "import math\n",
    "a = float(input(\"請輸入a=\"))\n",
    "b = float(input(\"請輸入b=\"))\n",
    "c = math.sqrt(a ** 2 + b ** 2)\n",
    "\n",
    "print(\"a=\", a);\n",
    "print(\"b=\", b);\n",
    "print(\"斜邊為\", c);"
   ]
  },
  {
   "cell_type": "code",
   "execution_count": 51,
   "id": "88709e70",
   "metadata": {},
   "outputs": [
    {
     "name": "stdout",
     "output_type": "stream",
     "text": [
      "直角三角形的角度是: 90.0\n"
     ]
    }
   ],
   "source": [
    "import math\n",
    "\n",
    "side = float(input(\"請輸入斜邊:\"))\n",
    "other_side = float(input(\"請輸入對邊:\"))\n",
    "radian = math.asin(other_side / side)\n",
    "degree = math.degrees(radian)\n",
    "\n",
    "print(\"直角三角形的角度是:\", degree)"
   ]
  }
 ],
 "metadata": {
  "kernelspec": {
   "display_name": "base",
   "language": "python",
   "name": "python3"
  },
  "language_info": {
   "codemirror_mode": {
    "name": "ipython",
    "version": 3
   },
   "file_extension": ".py",
   "mimetype": "text/x-python",
   "name": "python",
   "nbconvert_exporter": "python",
   "pygments_lexer": "ipython3",
   "version": "3.13.2"
  }
 },
 "nbformat": 4,
 "nbformat_minor": 5
}
