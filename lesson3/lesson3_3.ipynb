{
 "cells": [
  {
   "cell_type": "code",
   "execution_count": 5,
   "id": "6c32d6fd",
   "metadata": {},
   "outputs": [
    {
     "name": "stdout",
     "output_type": "stream",
     "text": [
      "梯形的面積: 40.02\n"
     ]
    }
   ],
   "source": [
    "# 請輸入梯形的上底(公分):5\n",
    "# 請輸入梯形的下底(公分):10\n",
    "# 請輸入梯形的高(公分):2\n",
    "\n",
    "top = 13.5\n",
    "bottom = 21.3\n",
    "height = 2.3\n",
    "\n",
    "area = (top + bottom) * height / 2\n",
    "print(\"梯形的面積:\",round(area,ndigits=2))"
   ]
  },
  {
   "cell_type": "code",
   "execution_count": 10,
   "id": "158e8c71",
   "metadata": {},
   "outputs": [
    {
     "data": {
      "text/plain": [
       "99.0"
      ]
     },
     "execution_count": 10,
     "metadata": {},
     "output_type": "execute_result"
    }
   ],
   "source": [
    "value = input(\"輸日一個數值;\")\n",
    "type(value)\n",
    "float(value)\n",
    "value_float = float(value)\n",
    "value_float"
   ]
  },
  {
   "cell_type": "code",
   "execution_count": 11,
   "id": "c2be569e",
   "metadata": {},
   "outputs": [
    {
     "name": "stdout",
     "output_type": "stream",
     "text": [
      "梯形的面積: 6150.0\n"
     ]
    }
   ],
   "source": [
    "# 請輸入梯形的上底(公分):5\n",
    "# 請輸入梯形的下底(公分):10\n",
    "# 請輸入梯形的高(公分):2\n",
    "\n",
    "top = float(input(\"請輸入上底(公分)\"))\n",
    "bottom = float(input(\"請輸入下底(公分)\"))\n",
    "height = float(input(\"請輸入高(公分)\"))\n",
    "\n",
    "area = (top + bottom) * height / 2\n",
    "print(\"梯形的面積:\",round(area,ndigits=2))"
   ]
  }
 ],
 "metadata": {
  "kernelspec": {
   "display_name": "base",
   "language": "python",
   "name": "python3"
  },
  "language_info": {
   "codemirror_mode": {
    "name": "ipython",
    "version": 3
   },
   "file_extension": ".py",
   "mimetype": "text/x-python",
   "name": "python",
   "nbconvert_exporter": "python",
   "pygments_lexer": "ipython3",
   "version": "3.13.2"
  }
 },
 "nbformat": 4,
 "nbformat_minor": 5
}
