{
 "cells": [
  {
   "cell_type": "code",
   "execution_count": 5,
   "id": "e894af50",
   "metadata": {},
   "outputs": [],
   "source": [
    "#數字+字串\n",
    "\n",
    "#不行\n",
    "\n",
    "#35 + '10'"
   ]
  },
  {
   "cell_type": "code",
   "execution_count": 4,
   "id": "e4c3e0fd",
   "metadata": {},
   "outputs": [
    {
     "data": {
      "text/plain": [
       "'3510'"
      ]
     },
     "execution_count": 4,
     "metadata": {},
     "output_type": "execute_result"
    }
   ],
   "source": [
    "#字串+字串\n",
    "\"35\" + \"10\"\n",
    "#\"35\" - \"10\" #錯誤的"
   ]
  },
  {
   "cell_type": "code",
   "execution_count": 3,
   "id": "5a68445d",
   "metadata": {},
   "outputs": [
    {
     "data": {
      "text/plain": [
       "float"
      ]
     },
     "execution_count": 3,
     "metadata": {},
     "output_type": "execute_result"
    }
   ],
   "source": [
    "number1 = 10 #建立變數number1\n",
    "type(number1)\n",
    "number2 = 20.0\n",
    "type(number2)\n",
    "value = number1 + number2\n",
    "value\n",
    "type(value)"
   ]
  },
  {
   "cell_type": "markdown",
   "id": "5de63442",
   "metadata": {},
   "source": [
    "30.0\n"
   ]
  }
 ],
 "metadata": {
  "kernelspec": {
   "display_name": "base",
   "language": "python",
   "name": "python3"
  },
  "language_info": {
   "codemirror_mode": {
    "name": "ipython",
    "version": 3
   },
   "file_extension": ".py",
   "mimetype": "text/x-python",
   "name": "python",
   "nbconvert_exporter": "python",
   "pygments_lexer": "ipython3",
   "version": "3.13.2"
  }
 },
 "nbformat": 4,
 "nbformat_minor": 5
}
