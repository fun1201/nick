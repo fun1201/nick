{
 "cells": [
  {
   "cell_type": "code",
   "execution_count": 13,
   "id": "b37b12bd",
   "metadata": {},
   "outputs": [
    {
     "data": {
      "text/plain": [
       "10"
      ]
     },
     "execution_count": 13,
     "metadata": {},
     "output_type": "execute_result"
    }
   ],
   "source": [
    "#運算式(expression)\n",
    "2 * (1 + 2) ** 2 - 2 ** 2 * 2"
   ]
  },
  {
   "cell_type": "code",
   "execution_count": 19,
   "id": "cb15c1d9",
   "metadata": {},
   "outputs": [
    {
     "name": "stdout",
     "output_type": "stream",
     "text": [
      "14\n",
      "20\n",
      "14\n"
     ]
    }
   ],
   "source": [
    "velue1 = 2 + 3* 4 #敘述式\n",
    "velue2 =(2 + 3)* 4 #敘述式\n",
    "velue3 = 2 * ( 1 + 2 )** 2 - 2 * 2 #敘述式\n",
    "print(velue1)\n",
    "print(velue2)\n",
    "print(velue3)"
   ]
  },
  {
   "cell_type": "markdown",
   "id": "d545a97e",
   "metadata": {},
   "source": [
    "自我練習"
   ]
  },
  {
   "cell_type": "code",
   "execution_count": 27,
   "id": "f3e79271",
   "metadata": {},
   "outputs": [
    {
     "name": "stdout",
     "output_type": "stream",
     "text": [
      "14\n",
      "20\n",
      "14\n"
     ]
    }
   ],
   "source": [
    "print(2 + 3* 4)\n",
    "print((2 + 3)* 4)\n",
    "print(2 * ( 1 + 2 )** 2 - 2 * 2)"
   ]
  }
 ],
 "metadata": {
  "kernelspec": {
   "display_name": "base",
   "language": "python",
   "name": "python3"
  },
  "language_info": {
   "codemirror_mode": {
    "name": "ipython",
    "version": 3
   },
   "file_extension": ".py",
   "mimetype": "text/x-python",
   "name": "python",
   "nbconvert_exporter": "python",
   "pygments_lexer": "ipython3",
   "version": "3.13.2"
  }
 },
 "nbformat": 4,
 "nbformat_minor": 5
}
