{
 "cells": [
  {
   "cell_type": "code",
   "execution_count": 31,
   "id": "158e8658",
   "metadata": {},
   "outputs": [
    {
     "data": {
      "text/plain": [
       "55"
      ]
     },
     "execution_count": 31,
     "metadata": {},
     "output_type": "execute_result"
    }
   ],
   "source": [
    "total = 0\n",
    "total += 1\n",
    "total += 2\n",
    "total += 3\n",
    "total += 4\n",
    "total += 5\n",
    "total += 6\n",
    "total += 7\n",
    "total += 8\n",
    "total += 9\n",
    "total += 10\n",
    "total"
   ]
  },
  {
   "cell_type": "code",
   "execution_count": 30,
   "id": "ea19b1b0",
   "metadata": {},
   "outputs": [
    {
     "name": "stdout",
     "output_type": "stream",
     "text": [
      "a\n",
      "b\n",
      "c\n",
      "d\n",
      "e\n"
     ]
    }
   ],
   "source": [
    "for word in \"abcde\":\n",
    "    print(word)"
   ]
  },
  {
   "cell_type": "code",
   "execution_count": 29,
   "id": "1aba7cf8",
   "metadata": {},
   "outputs": [
    {
     "data": {
      "text/plain": [
       "range(1, 10, 2)"
      ]
     },
     "execution_count": 29,
     "metadata": {},
     "output_type": "execute_result"
    }
   ],
   "source": [
    "range(5) #0~4\n",
    "range(1, 5) #1~4\n",
    "range(1, 10, 2) #1,3,5,7,9"
   ]
  },
  {
   "cell_type": "code",
   "execution_count": 28,
   "id": "748b598f",
   "metadata": {},
   "outputs": [
    {
     "name": "stdout",
     "output_type": "stream",
     "text": [
      "45\n"
     ]
    }
   ],
   "source": [
    "total = 0\n",
    "for i in range(1,10):\n",
    "    total += i\n",
    "\n",
    "print(total)"
   ]
  },
  {
   "cell_type": "code",
   "execution_count": 27,
   "id": "258fc559",
   "metadata": {},
   "outputs": [
    {
     "name": "stdout",
     "output_type": "stream",
     "text": [
      "i=1\n",
      "j=1 j=2 j=3 j=4 j=5 j=6 j=7 j=8 j=9 \n",
      "==============\n",
      "i=2\n",
      "j=1 j=2 j=3 j=4 j=5 j=6 j=7 j=8 j=9 \n",
      "==============\n",
      "i=3\n",
      "j=1 j=2 j=3 j=4 j=5 j=6 j=7 j=8 j=9 \n",
      "==============\n",
      "i=4\n",
      "j=1 j=2 j=3 j=4 j=5 j=6 j=7 j=8 j=9 \n",
      "==============\n",
      "i=5\n",
      "j=1 j=2 j=3 j=4 j=5 j=6 j=7 j=8 j=9 \n",
      "==============\n",
      "i=6\n",
      "j=1 j=2 j=3 j=4 j=5 j=6 j=7 j=8 j=9 \n",
      "==============\n",
      "i=7\n",
      "j=1 j=2 j=3 j=4 j=5 j=6 j=7 j=8 j=9 \n",
      "==============\n",
      "i=8\n",
      "j=1 j=2 j=3 j=4 j=5 j=6 j=7 j=8 j=9 \n",
      "==============\n",
      "i=9\n",
      "j=1 j=2 j=3 j=4 j=5 j=6 j=7 j=8 j=9 \n",
      "==============\n"
     ]
    }
   ],
   "source": [
    "for i in range(1,10):\n",
    "    print(\"i=\",i,sep='')\n",
    "    for j in range(1,10):\n",
    "        print(\"j=\",j,end=\" \",sep='')\n",
    "    print(\"\\n==============\")"
   ]
  },
  {
   "cell_type": "code",
   "execution_count": 26,
   "id": "e2183f17",
   "metadata": {},
   "outputs": [
    {
     "name": "stdout",
     "output_type": "stream",
     "text": [
      "1 * 1 = 1  1 * 2 = 2  1 * 3 = 3  1 * 4 = 4  1 * 5 = 5  1 * 6 = 6  1 * 7 = 7  1 * 8 = 8  1 * 9 = 9  \n",
      "\n",
      "2 * 1 = 2  2 * 2 = 4  2 * 3 = 6  2 * 4 = 8  2 * 5 = 10  2 * 6 = 12  2 * 7 = 14  2 * 8 = 16  2 * 9 = 18  \n",
      "\n",
      "3 * 1 = 3  3 * 2 = 6  3 * 3 = 9  3 * 4 = 12  3 * 5 = 15  3 * 6 = 18  3 * 7 = 21  3 * 8 = 24  3 * 9 = 27  \n",
      "\n",
      "4 * 1 = 4  4 * 2 = 8  4 * 3 = 12  4 * 4 = 16  4 * 5 = 20  4 * 6 = 24  4 * 7 = 28  4 * 8 = 32  4 * 9 = 36  \n",
      "\n",
      "5 * 1 = 5  5 * 2 = 10  5 * 3 = 15  5 * 4 = 20  5 * 5 = 25  5 * 6 = 30  5 * 7 = 35  5 * 8 = 40  5 * 9 = 45  \n",
      "\n",
      "6 * 1 = 6  6 * 2 = 12  6 * 3 = 18  6 * 4 = 24  6 * 5 = 30  6 * 6 = 36  6 * 7 = 42  6 * 8 = 48  6 * 9 = 54  \n",
      "\n",
      "7 * 1 = 7  7 * 2 = 14  7 * 3 = 21  7 * 4 = 28  7 * 5 = 35  7 * 6 = 42  7 * 7 = 49  7 * 8 = 56  7 * 9 = 63  \n",
      "\n",
      "8 * 1 = 8  8 * 2 = 16  8 * 3 = 24  8 * 4 = 32  8 * 5 = 40  8 * 6 = 48  8 * 7 = 56  8 * 8 = 64  8 * 9 = 72  \n",
      "\n",
      "9 * 1 = 9  9 * 2 = 18  9 * 3 = 27  9 * 4 = 36  9 * 5 = 45  9 * 6 = 54  9 * 7 = 63  9 * 8 = 72  9 * 9 = 81  \n",
      "\n"
     ]
    }
   ],
   "source": [
    "for i in range(1,10):\n",
    "    for j in range(1,10):\n",
    "        print(i,'*',j,'=',i*j,end=\"  \",sep=' ')\n",
    "    print(\"\\n\")"
   ]
  },
  {
   "cell_type": "code",
   "execution_count": 25,
   "id": "c40c621e",
   "metadata": {},
   "outputs": [
    {
     "name": "stdout",
     "output_type": "stream",
     "text": [
      "apple有5個,orange有10個\n"
     ]
    }
   ],
   "source": [
    "\n",
    "apple = 5\n",
    "orange = 10\n",
    "\n",
    "print(\"apple有\",apple,\"個,orange有\",orange,\"個\",sep='')"
   ]
  },
  {
   "cell_type": "code",
   "execution_count": 24,
   "id": "dc75c9c8",
   "metadata": {},
   "outputs": [
    {
     "name": "stdout",
     "output_type": "stream",
     "text": [
      "apple有5個,orange有10個\n"
     ]
    }
   ],
   "source": [
    "\n",
    "apple = 5\n",
    "orange = 10\n",
    "\n",
    "#字串插補(字串格式化),目的字串和變數整合,成為一個全新的字串\n",
    "print(f\"apple有{apple}個,orange有{orange}個\")"
   ]
  },
  {
   "cell_type": "code",
   "execution_count": 23,
   "id": "51af9b38",
   "metadata": {},
   "outputs": [
    {
     "name": "stdout",
     "output_type": "stream",
     "text": [
      "1 * 1 = 1   1 * 2 = 2   1 * 3 = 3   1 * 4 = 4   1 * 5 = 5   1 * 6 = 6   1 * 7 = 7   1 * 8 = 8   1 * 9 = 9   \n",
      "\n",
      "2 * 1 = 2   2 * 2 = 4   2 * 3 = 6   2 * 4 = 8   2 * 5 =10   2 * 6 =12   2 * 7 =14   2 * 8 =16   2 * 9 =18   \n",
      "\n",
      "3 * 1 = 3   3 * 2 = 6   3 * 3 = 9   3 * 4 =12   3 * 5 =15   3 * 6 =18   3 * 7 =21   3 * 8 =24   3 * 9 =27   \n",
      "\n",
      "4 * 1 = 4   4 * 2 = 8   4 * 3 =12   4 * 4 =16   4 * 5 =20   4 * 6 =24   4 * 7 =28   4 * 8 =32   4 * 9 =36   \n",
      "\n",
      "5 * 1 = 5   5 * 2 =10   5 * 3 =15   5 * 4 =20   5 * 5 =25   5 * 6 =30   5 * 7 =35   5 * 8 =40   5 * 9 =45   \n",
      "\n",
      "6 * 1 = 6   6 * 2 =12   6 * 3 =18   6 * 4 =24   6 * 5 =30   6 * 6 =36   6 * 7 =42   6 * 8 =48   6 * 9 =54   \n",
      "\n",
      "7 * 1 = 7   7 * 2 =14   7 * 3 =21   7 * 4 =28   7 * 5 =35   7 * 6 =42   7 * 7 =49   7 * 8 =56   7 * 9 =63   \n",
      "\n",
      "8 * 1 = 8   8 * 2 =16   8 * 3 =24   8 * 4 =32   8 * 5 =40   8 * 6 =48   8 * 7 =56   8 * 8 =64   8 * 9 =72   \n",
      "\n",
      "9 * 1 = 9   9 * 2 =18   9 * 3 =27   9 * 4 =36   9 * 5 =45   9 * 6 =54   9 * 7 =63   9 * 8 =72   9 * 9 =81   \n",
      "\n"
     ]
    }
   ],
   "source": [
    "for i in range(1,10):\n",
    "    for j in range(1,10):\n",
    "        print(f\"{i:<2d}*{j:2d} ={i*j:2d}\",end='   ')\n",
    "    print(\"\\n\")"
   ]
  },
  {
   "cell_type": "code",
   "execution_count": 33,
   "id": "464727dc",
   "metadata": {},
   "outputs": [
    {
     "name": "stdout",
     "output_type": "stream",
     "text": [
      "10\n",
      "9\n",
      "8\n",
      "7\n",
      "6\n",
      "5\n",
      "4\n",
      "3\n",
      "2\n",
      "1\n"
     ]
    }
   ],
   "source": [
    "i = 10\n",
    "while( i > 0 ):\n",
    "    print(i)\n",
    "    i -= 1"
   ]
  },
  {
   "cell_type": "code",
   "execution_count": 34,
   "id": "6ee880ba",
   "metadata": {},
   "outputs": [
    {
     "ename": "NameError",
     "evalue": "name 'find_factors' is not defined",
     "output_type": "error",
     "traceback": [
      "\u001b[31m---------------------------------------------------------------------------\u001b[39m",
      "\u001b[31mNameError\u001b[39m                                 Traceback (most recent call last)",
      "\u001b[36mCell\u001b[39m\u001b[36m \u001b[39m\u001b[32mIn[34]\u001b[39m\u001b[32m, line 2\u001b[39m\n\u001b[32m      1\u001b[39m num = \u001b[38;5;28mint\u001b[39m(\u001b[38;5;28minput\u001b[39m(\u001b[33m\"\u001b[39m\u001b[33m請輸入一個整數， 餅是所有的因數:\u001b[39m\u001b[33m\"\u001b[39m))\n\u001b[32m----> \u001b[39m\u001b[32m2\u001b[39m factors = \u001b[43mfind_factors\u001b[49m(num)\n\u001b[32m      3\u001b[39m \u001b[38;5;28mprint\u001b[39m(\u001b[33mf\u001b[39m\u001b[33m\"\u001b[39m\u001b[38;5;132;01m{\u001b[39;00mnum\u001b[38;5;132;01m}\u001b[39;00m\u001b[33m的因數有:\u001b[39m\u001b[38;5;132;01m{\u001b[39;00m\u001b[33m'\u001b[39m\u001b[33m \u001b[39m\u001b[33m'\u001b[39m\u001b[38;5;250m \u001b[39m.join(\u001b[38;5;28mmap\u001b[39m(\u001b[38;5;28mstr\u001b[39m,factors))\u001b[38;5;132;01m}\u001b[39;00m\u001b[33m\"\u001b[39m)\n",
      "\u001b[31mNameError\u001b[39m: name 'find_factors' is not defined"
     ]
    }
   ],
   "source": [
    "num = int(input(\"請輸入一個整數， 餅是所有的因數:\"))\n",
    "factors = find_factors(num)\n",
    "print(f\"{num}的因數有:{' ' .join(map(str,factors))}\")"
   ]
  }
 ],
 "metadata": {
  "kernelspec": {
   "display_name": "base",
   "language": "python",
   "name": "python3"
  },
  "language_info": {
   "codemirror_mode": {
    "name": "ipython",
    "version": 3
   },
   "file_extension": ".py",
   "mimetype": "text/x-python",
   "name": "python",
   "nbconvert_exporter": "python",
   "pygments_lexer": "ipython3",
   "version": "3.13.2"
  }
 },
 "nbformat": 4,
 "nbformat_minor": 5
}
