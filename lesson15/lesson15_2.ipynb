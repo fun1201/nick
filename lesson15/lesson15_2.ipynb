{
 "cells": [
  {
   "cell_type": "code",
   "execution_count": 4,
   "id": "478391e1",
   "metadata": {},
   "outputs": [
    {
     "data": {
      "text/plain": [
       "array([ 0, 10, 20, 30, 40, 50, 60, 70, 80, 90])"
      ]
     },
     "execution_count": 4,
     "metadata": {},
     "output_type": "execute_result"
    }
   ],
   "source": [
    "\n",
    "import numpy as np\n",
    "arr = np.arange(10) * 10\n",
    "arr"
   ]
  },
  {
   "cell_type": "code",
   "execution_count": 5,
   "id": "f7fa7aba",
   "metadata": {},
   "outputs": [
    {
     "data": {
      "text/plain": [
       "array([50, 60, 70, 80, 90])"
      ]
     },
     "execution_count": 5,
     "metadata": {},
     "output_type": "execute_result"
    }
   ],
   "source": [
    "#索引\n",
    "arr[1]\n",
    "\n",
    "#slice\n",
    "arr[:5] #前5個\n",
    "arr[-5:] #最後5個"
   ]
  },
  {
   "cell_type": "code",
   "execution_count": 6,
   "id": "e457d0e8",
   "metadata": {},
   "outputs": [
    {
     "data": {
      "text/plain": [
       "array([[ 86,  83,  84,  70,  58],\n",
       "       [ 82,  58,  65,  98,  68],\n",
       "       [ 94,  72,  99,  57,  79],\n",
       "       [ 68,  61,  73,  68,  84],\n",
       "       [ 97,  75,  55,  82,  97],\n",
       "       [ 88,  72,  92,  57,  77],\n",
       "       [ 88,  62,  61,  83,  94],\n",
       "       [ 74,  99,  92,  98,  90],\n",
       "       [ 82,  80,  72,  57, 100],\n",
       "       [ 74, 100,  52,  64,  57],\n",
       "       [ 97,  61,  73,  80,  89],\n",
       "       [ 61,  50,  75,  88, 100],\n",
       "       [ 65,  67,  69,  95,  72],\n",
       "       [ 62,  65,  68,  80,  70],\n",
       "       [ 71,  81,  83,  84,  52],\n",
       "       [ 61,  92,  84,  65,  87],\n",
       "       [ 88,  55,  52,  63,  63],\n",
       "       [ 84,  84,  70,  76,  69],\n",
       "       [ 67,  84,  89,  67,  80],\n",
       "       [ 59,  92,  79,  94,  91],\n",
       "       [ 62,  96,  93,  97,  98],\n",
       "       [ 85,  95, 100,  60,  65],\n",
       "       [ 53,  74,  66,  65,  68],\n",
       "       [ 80,  51,  75,  98,  51],\n",
       "       [ 66,  92,  93,  62,  68],\n",
       "       [ 67,  74,  88,  87,  94],\n",
       "       [ 82,  64,  89,  68,  89],\n",
       "       [ 88,  61,  89,  87,  68],\n",
       "       [ 79,  76,  70,  85,  93],\n",
       "       [ 61,  50,  95, 100,  87],\n",
       "       [ 63,  51,  69,  65,  66],\n",
       "       [ 97,  61,  95,  79,  61],\n",
       "       [ 65,  89,  67,  81,  94],\n",
       "       [ 54,  70,  61,  83,  72],\n",
       "       [ 51,  90,  94,  53,  61],\n",
       "       [ 94,  66,  63,  52,  64],\n",
       "       [ 70,  77,  75,  91,  81],\n",
       "       [ 72,  77,  81,  72,  69],\n",
       "       [ 95,  67,  81,  66,  60],\n",
       "       [ 63,  56,  70,  70,  72],\n",
       "       [ 85,  87,  69,  86,  62],\n",
       "       [ 59,  71,  70,  77,  73],\n",
       "       [ 50,  58,  85,  77,  83],\n",
       "       [ 90,  72,  78,  85,  88],\n",
       "       [ 62,  51,  71,  77,  71],\n",
       "       [ 89,  79,  71,  76,  52],\n",
       "       [ 97,  98,  73,  93,  76],\n",
       "       [ 54,  53,  70,  99,  96],\n",
       "       [ 83,  89,  64,  56,  53],\n",
       "       [ 87,  95,  69,  68,  92]], dtype=int32)"
      ]
     },
     "execution_count": 6,
     "metadata": {},
     "output_type": "execute_result"
    }
   ],
   "source": [
    "scores = np.random.randint(50,101, size=(50, 5))\n",
    "scores"
   ]
  },
  {
   "cell_type": "code",
   "execution_count": 7,
   "id": "3d44ed39",
   "metadata": {},
   "outputs": [
    {
     "data": {
      "text/plain": [
       "array([[86, 83, 84, 70, 58]], dtype=int32)"
      ]
     },
     "execution_count": 7,
     "metadata": {},
     "output_type": "execute_result"
    }
   ],
   "source": [
    "#第一位學生的分數\n",
    "scores[0] #(5,)\n",
    "scores[0,:] #(5,)\n",
    "scores[0:1,:] #(1, 5)"
   ]
  },
  {
   "cell_type": "code",
   "execution_count": 8,
   "id": "68c5976d",
   "metadata": {},
   "outputs": [
    {
     "data": {
      "text/plain": [
       "array([[86, 83, 84],\n",
       "       [82, 58, 65],\n",
       "       [94, 72, 99],\n",
       "       [68, 61, 73],\n",
       "       [97, 75, 55]], dtype=int32)"
      ]
     },
     "execution_count": 8,
     "metadata": {},
     "output_type": "execute_result"
    }
   ],
   "source": [
    "#前5位學生\n",
    "scores[:5]\n",
    "#前5位學生,前3個分數\n",
    "scores[:5,:3]"
   ]
  },
  {
   "cell_type": "code",
   "execution_count": 9,
   "id": "b7e5da5d",
   "metadata": {},
   "outputs": [
    {
     "data": {
      "text/plain": [
       "array([ 84,  65,  99,  73,  55,  92,  61,  92,  72,  52,  73,  75,  69,\n",
       "        68,  83,  84,  52,  70,  89,  79,  93, 100,  66,  75,  93,  88,\n",
       "        89,  89,  70,  95,  69,  95,  67,  61,  94,  63,  75,  81,  81,\n",
       "        70,  69,  70,  85,  78,  71,  71,  73,  70,  64,  69], dtype=int32)"
      ]
     },
     "execution_count": 9,
     "metadata": {},
     "output_type": "execute_result"
    }
   ],
   "source": [
    "#第1科分數\n",
    "scores[:,0]\n",
    "scores[:,1]\n",
    "scores[:,2]"
   ]
  },
  {
   "cell_type": "code",
   "execution_count": 10,
   "id": "0961344c",
   "metadata": {},
   "outputs": [
    {
     "data": {
      "text/plain": [
       "array([381, 371, 401, 354, 406, 386, 388, 453, 391, 347, 400, 374, 368,\n",
       "       345, 371, 389, 321, 383, 387, 415, 446, 405, 326, 355, 381, 410,\n",
       "       392, 393, 403, 393, 314, 393, 396, 340, 349, 339, 394, 371, 369,\n",
       "       331, 389, 350, 353, 413, 332, 367, 437, 372, 345, 411], dtype=int32)"
      ]
     },
     "execution_count": 10,
     "metadata": {},
     "output_type": "execute_result"
    }
   ],
   "source": [
    "#ndarray可以陣列運算\n",
    "total = scores[:,0] + scores[:,1] + scores[:,2] + scores[:,3] + scores[:,4]\n",
    "total"
   ]
  },
  {
   "cell_type": "code",
   "execution_count": 11,
   "id": "c67e4eef",
   "metadata": {},
   "outputs": [
    {
     "data": {
      "text/plain": [
       "array([76.2, 74.2, 80.2, 70.8, 81.2, 77.2, 77.6, 90.6, 78.2, 69.4, 80. ,\n",
       "       74.8, 73.6, 69. , 74.2, 77.8, 64.2, 76.6, 77.4, 83. , 89.2, 81. ,\n",
       "       65.2, 71. , 76.2, 82. , 78.4, 78.6, 80.6, 78.6, 62.8, 78.6, 79.2,\n",
       "       68. , 69.8, 67.8, 78.8, 74.2, 73.8, 66.2, 77.8, 70. , 70.6, 82.6,\n",
       "       66.4, 73.4, 87.4, 74.4, 69. , 82.2])"
      ]
     },
     "execution_count": 11,
     "metadata": {},
     "output_type": "execute_result"
    }
   ],
   "source": [
    "total / 5"
   ]
  },
  {
   "cell_type": "code",
   "execution_count": 12,
   "id": "874c9847",
   "metadata": {},
   "outputs": [
    {
     "data": {
      "text/plain": [
       "array([76.2, 74.2, 80.2, 70.8, 81.2, 77.2, 77.6, 90.6, 78.2, 69.4, 80. ,\n",
       "       74.8, 73.6, 69. , 74.2, 77.8, 64.2, 76.6, 77.4, 83. , 89.2, 81. ,\n",
       "       65.2, 71. , 76.2, 82. , 78.4, 78.6, 80.6, 78.6, 62.8, 78.6, 79.2,\n",
       "       68. , 69.8, 67.8, 78.8, 74.2, 73.8, 66.2, 77.8, 70. , 70.6, 82.6,\n",
       "       66.4, 73.4, 87.4, 74.4, 69. , 82.2])"
      ]
     },
     "execution_count": 12,
     "metadata": {},
     "output_type": "execute_result"
    }
   ],
   "source": [
    "\n",
    "#np內的function\n",
    "np.sum(scores,axis=1)\n",
    "np.mean(scores,axis=1)"
   ]
  },
  {
   "cell_type": "code",
   "execution_count": 13,
   "id": "ebe7356c",
   "metadata": {},
   "outputs": [
    {
     "data": {
      "text/plain": [
       "array([76.2, 74.2, 80.2, 70.8, 81.2, 77.2, 77.6, 90.6, 78.2, 69.4, 80. ,\n",
       "       74.8, 73.6, 69. , 74.2, 77.8, 64.2, 76.6, 77.4, 83. , 89.2, 81. ,\n",
       "       65.2, 71. , 76.2, 82. , 78.4, 78.6, 80.6, 78.6, 62.8, 78.6, 79.2,\n",
       "       68. , 69.8, 67.8, 78.8, 74.2, 73.8, 66.2, 77.8, 70. , 70.6, 82.6,\n",
       "       66.4, 73.4, 87.4, 74.4, 69. , 82.2])"
      ]
     },
     "execution_count": 13,
     "metadata": {},
     "output_type": "execute_result"
    }
   ],
   "source": [
    "\n",
    "#實體方法\n",
    "scores.sum(axis=1)\n",
    "scores.mean(axis=1)"
   ]
  }
 ],
 "metadata": {
  "kernelspec": {
   "display_name": "fun",
   "language": "python",
   "name": "python3"
  },
  "language_info": {
   "codemirror_mode": {
    "name": "ipython",
    "version": 3
   },
   "file_extension": ".py",
   "mimetype": "text/x-python",
   "name": "python",
   "nbconvert_exporter": "python",
   "pygments_lexer": "ipython3",
   "version": "3.12.11"
  }
 },
 "nbformat": 4,
 "nbformat_minor": 5
}
