{
 "cells": [
  {
   "cell_type": "code",
   "execution_count": null,
   "id": "4938077b",
   "metadata": {},
   "outputs": [],
   "source": [
    "import pandas as pd\n",
    "#將DataFrame當作資料庫來操作\n",
    "df = pd.read_csv('world.csv')"
   ]
  },
  {
   "cell_type": "code",
   "execution_count": null,
   "id": "ca7fc81e",
   "metadata": {},
   "outputs": [],
   "source": [
    "df.head()\n",
    "df.shape\n",
    "df.info()"
   ]
  },
  {
   "cell_type": "code",
   "execution_count": null,
   "id": "c7e276d6",
   "metadata": {},
   "outputs": [],
   "source": [
    "df1 = df[['洲名','國家','日期','總確診數','新增確診數','總人口數','解封指數']]\n",
    "\n",
    "df1.shape\n",
    "df1.info()"
   ]
  },
  {
   "cell_type": "code",
   "execution_count": null,
   "id": "85a5d17c",
   "metadata": {},
   "outputs": [],
   "source": [
    "df1['日期'] = pd.to_datetime(df1['日期'])"
   ]
  },
  {
   "cell_type": "code",
   "execution_count": null,
   "id": "08dc4f69",
   "metadata": {},
   "outputs": [],
   "source": [
    "df1.head()"
   ]
  },
  {
   "cell_type": "code",
   "execution_count": null,
   "id": "215713ba",
   "metadata": {},
   "outputs": [],
   "source": [
    "is_taiwan = df1['國家'] == \"台灣\"\n",
    "df_taiwan = df1[is_taiwan]\n",
    "df_taiwan.info()"
   ]
  },
  {
   "cell_type": "code",
   "execution_count": null,
   "id": "27f54fb9",
   "metadata": {},
   "outputs": [],
   "source": [
    "is_japan = df1['國家'] == \"日本\"\n",
    "df_japan = df1[is_japan]\n",
    "df_japan.info()"
   ]
  },
  {
   "cell_type": "code",
   "execution_count": null,
   "id": "12ba627f",
   "metadata": {},
   "outputs": [],
   "source": [
    "\n",
    "df_taiwan[df_taiwan['日期'].dt.year == 2021]"
   ]
  },
  {
   "cell_type": "code",
   "execution_count": null,
   "id": "871bed12",
   "metadata": {},
   "outputs": [],
   "source": [
    "df_taiwan[df_taiwan['日期'].dt.month == 5]"
   ]
  },
  {
   "cell_type": "code",
   "execution_count": null,
   "id": "626ac307",
   "metadata": {},
   "outputs": [],
   "source": [
    "df_taiwan_2021_05 = df_taiwan[(df_taiwan['日期'].dt.year == 2021) & (df_taiwan['日期'].dt.month == 5)]"
   ]
  },
  {
   "cell_type": "code",
   "execution_count": null,
   "id": "4c077c0e",
   "metadata": {},
   "outputs": [
    {
     "name": "stdout",
     "output_type": "stream",
     "text": [
      "<class 'pandas.core.frame.DataFrame'>\n",
      "Index: 897 entries, 85626 to 86522\n",
      "Data columns (total 7 columns):\n",
      " #   Column  Non-Null Count  Dtype  \n",
      "---  ------  --------------  -----  \n",
      " 0   洲名      897 non-null    object \n",
      " 1   國家      897 non-null    object \n",
      " 2   日期      897 non-null    object \n",
      " 3   總確診數    897 non-null    int64  \n",
      " 4   新增確診數   897 non-null    int64  \n",
      " 5   總人口數    897 non-null    int64  \n",
      " 6   解封指數    897 non-null    float64\n",
      "dtypes: float64(1), int64(3), object(3)\n",
      "memory usage: 56.1+ KB\n"
     ]
    }
   ],
   "source": [
    "is_japan = df1['國家'] == \"日本\"\n",
    "df_japan = df1[is_japan]\n",
    "df_japan.info()df_taiwan_2021_05[df_taiwan_2021_05['新增確診數'] >= 300]"
   ]
  },
  {
   "cell_type": "code",
   "execution_count": null,
   "id": "694c1317",
   "metadata": {},
   "outputs": [],
   "source": []
  }
 ],
 "metadata": {
  "kernelspec": {
   "display_name": "fun",
   "language": "python",
   "name": "python3"
  },
  "language_info": {
   "codemirror_mode": {
    "name": "ipython",
    "version": 3
   },
   "file_extension": ".py",
   "mimetype": "text/x-python",
   "name": "python",
   "nbconvert_exporter": "python",
   "pygments_lexer": "ipython3",
   "version": "3.12.11"
  }
 },
 "nbformat": 4,
 "nbformat_minor": 5
}
